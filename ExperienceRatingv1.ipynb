{
 "cells": [
  {
   "cell_type": "code",
   "execution_count": 1,
   "metadata": {},
   "outputs": [
    {
     "name": "stderr",
     "output_type": "stream",
     "text": [
      "sys:1: MapWithoutReturnDtypeWarning: Calling `map_elements` without specifying `return_dtype` can lead to unpredictable results. Specify `return_dtype` to silence this warning.\n",
      "sys:1: MapWithoutReturnDtypeWarning: Calling `map_elements` without specifying `return_dtype` can lead to unpredictable results. Specify `return_dtype` to silence this warning.\n",
      "sys:1: MapWithoutReturnDtypeWarning: Calling `map_elements` without specifying `return_dtype` can lead to unpredictable results. Specify `return_dtype` to silence this warning.\n",
      "sys:1: MapWithoutReturnDtypeWarning: Calling `map_elements` without specifying `return_dtype` can lead to unpredictable results. Specify `return_dtype` to silence this warning.\n",
      "sys:1: MapWithoutReturnDtypeWarning: Calling `map_elements` without specifying `return_dtype` can lead to unpredictable results. Specify `return_dtype` to silence this warning.\n",
      "c:\\Actuarial Tools\\Python-Based Models\\Reinsurance Strategy Tool\\modelFunctions.py:881: MapWithoutReturnDtypeWarning: Calling `map_elements` without specifying `return_dtype` can lead to unpredictable results. Specify `return_dtype` to silence this warning.\n",
      "  dfSegmentation = (dfSegmentation\n",
      "c:\\Actuarial Tools\\Python-Based Models\\Reinsurance Strategy Tool\\modelFunctions.py:881: MapWithoutReturnDtypeWarning: Calling `map_elements` without specifying `return_dtype` can lead to unpredictable results. Specify `return_dtype` to silence this warning.\n",
      "  dfSegmentation = (dfSegmentation\n",
      "sys:1: MapWithoutReturnDtypeWarning: Calling `map_elements` without specifying `return_dtype` can lead to unpredictable results. Specify `return_dtype` to silence this warning.\n",
      "sys:1: MapWithoutReturnDtypeWarning: Calling `map_elements` without specifying `return_dtype` can lead to unpredictable results. Specify `return_dtype` to silence this warning.\n",
      "c:\\Actuarial Tools\\Python-Based Models\\Reinsurance Strategy Tool\\modelFunctions.py:349: MapWithoutReturnDtypeWarning: Calling `map_elements` without specifying `return_dtype` can lead to unpredictable results. Specify `return_dtype` to silence this warning.\n",
      "  result[key]=result[key].with_columns(\n",
      "c:\\Actuarial Tools\\Python-Based Models\\Reinsurance Strategy Tool\\modelFunctions.py:489: MapWithoutReturnDtypeWarning: Calling `map_elements` without specifying `return_dtype` can lead to unpredictable results. Specify `return_dtype` to silence this warning.\n",
      "  result[key]=result[key].with_columns(\n",
      "c:\\Actuarial Tools\\Python-Based Models\\Reinsurance Strategy Tool\\modelFunctions.py:489: MapWithoutReturnDtypeWarning: Calling `map_elements` without specifying `return_dtype` can lead to unpredictable results. Specify `return_dtype` to silence this warning.\n",
      "  result[key]=result[key].with_columns(\n",
      "sys:1: MapWithoutReturnDtypeWarning: Calling `map_elements` without specifying `return_dtype` can lead to unpredictable results. Specify `return_dtype` to silence this warning.\n",
      "sys:1: MapWithoutReturnDtypeWarning: Calling `map_elements` without specifying `return_dtype` can lead to unpredictable results. Specify `return_dtype` to silence this warning.\n",
      "sys:1: MapWithoutReturnDtypeWarning: Calling `map_elements` without specifying `return_dtype` can lead to unpredictable results. Specify `return_dtype` to silence this warning.\n",
      "sys:1: MapWithoutReturnDtypeWarning: Calling `map_elements` without specifying `return_dtype` can lead to unpredictable results. Specify `return_dtype` to silence this warning.\n",
      "sys:1: MapWithoutReturnDtypeWarning: Calling `map_elements` without specifying `return_dtype` can lead to unpredictable results. Specify `return_dtype` to silence this warning.\n",
      "sys:1: MapWithoutReturnDtypeWarning: Calling `map_elements` without specifying `return_dtype` can lead to unpredictable results. Specify `return_dtype` to silence this warning.\n",
      "sys:1: MapWithoutReturnDtypeWarning: Calling `map_elements` without specifying `return_dtype` can lead to unpredictable results. Specify `return_dtype` to silence this warning.\n"
     ]
    },
    {
     "name": "stdout",
     "output_type": "stream",
     "text": [
      "1\n",
      "2\n"
     ]
    }
   ],
   "source": [
    "#Dependencies\n",
    "import xlwings as xw\n",
    "import _misc\n",
    "import os\n",
    "import modelFunctions as aFns\n",
    "import modelAnalysis as Analysis\n",
    "import sys\n",
    "\n",
    "USERID=''\n",
    "CONNECTIONTYPE=1\n",
    "EXCELFILE=''\n",
    "MODELTYPE='Reinsurance Strategy Analysis'\n",
    "BOOK=None\n",
    "analysis=None\n",
    "\n",
    "#MAIN CODE BELOW\n",
    "def main():\n",
    "    global BOOK,EXCELFILE,CONNECTIONTYPE,MODELTYPE\n",
    "\n",
    "    try:\n",
    "        BOOK=xw.Book.caller()\n",
    "        EXCELFILE=BOOK.sheets[\"File Paths\"].range(\"_thisfilefullname\").value\n",
    "    except:\n",
    "        try:\n",
    "            EXCELFILE = _misc.selectAnalysisFileOrFolder(CONNECTIONTYPE,MODELTYPE,None)\n",
    "            if EXCELFILE is not None:\n",
    "                BOOK=xw.Book(EXCELFILE) \n",
    "        except:\n",
    "            return\n",
    "\n",
    "    try:\n",
    "        if sys.argv[1] in ['RunAnalysis']:\n",
    "            RunStep(sys.argv[1])\n",
    "        else:\n",
    "            RunStep(\"RunAnalysis\")        \n",
    "    except:\n",
    "        pass\n",
    "\n",
    "def RunAnalysis(connectiontype,modeltype,book,excelfile):\n",
    "    global analysis\n",
    "    excelfile=EXCELFILE.replace(os.sep,\"/\")\n",
    "    analysis= Analysis.Analysis(connectiontype,modeltype,book,excelfile)\n",
    "\n",
    "    if len(analysis.error)>0:\n",
    "        analysis.book.sheets[\"Navigation\"].range(\"runstatus\").value=\"Model Update Failed\"\n",
    "        analysis.showMessageBox('Error',analysis.error,True)\n",
    "    else:\n",
    "        try:\n",
    "            #Include function in modelFunctions.py for any model specific analysis steps\n",
    "            aFns.modelSpecificAnalysisSteps(analysis)\n",
    "        except:\n",
    "            pass    \n",
    "\n",
    "        analysis.book.sheets[\"Navigation\"].range(\"runstatus\").value=\"Model Update Successful\"\n",
    "        analysis.showMessageBox('Status','Model Run Complete.  Data Model will update after OK.',False)\n",
    "\n",
    "# Enable this function for EXE version\n",
    "def RunStep(arg1):\n",
    "    if arg1 == \"RunAnalysis\":\n",
    "        RunAnalysis(1,MODELTYPE,BOOK,EXCELFILE)\n",
    "    else:\n",
    "        pass\n",
    "     \n",
    "if __name__ == \"__main__\":\n",
    "    main()"
   ]
  }
 ],
 "metadata": {
  "kernelspec": {
   "display_name": ".venv",
   "language": "python",
   "name": "python3"
  },
  "language_info": {
   "codemirror_mode": {
    "name": "ipython",
    "version": 3
   },
   "file_extension": ".py",
   "mimetype": "text/x-python",
   "name": "python",
   "nbconvert_exporter": "python",
   "pygments_lexer": "ipython3",
   "version": "3.9.13"
  }
 },
 "nbformat": 4,
 "nbformat_minor": 2
}
