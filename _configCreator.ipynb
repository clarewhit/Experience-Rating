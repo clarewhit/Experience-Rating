{
 "cells": [
  {
   "cell_type": "markdown",
   "id": "fe1e5a10-7c0d-4dbb-b9c0-08a40abde21f",
   "metadata": {},
   "source": [
    "# Config Creator"
   ]
  },
  {
   "cell_type": "code",
   "execution_count": 2,
   "id": "906305a2",
   "metadata": {},
   "outputs": [],
   "source": [
    "#C:\\Users\\CW3\\BMS Group\\BMS Re - Documents\\Actuarial\\Models\\New Model Development\\Blank Analysis Template\\Code\\ReinsuranceStrategy_ConfigSpecsv2.xlsm\n",
    "#C:\\Users\\CW3\\BMS Group\\BMS Re - Documents\\Actuarial\\Individual Actuary Folders\\Clare Whitlam\\Work With Miles\\Code\\ReinsuranceStrategy_ConfigSpecsv2.xlsm\n",
    "#C:\\Users\\CW3\\BMS Group\\BMS Re - Documents\\Actuarial\\Individual Actuary Folders\\Clare Whitlam\\Strategy - working\\ReinsuranceStrategy_ConfigSpecsv2.xlsm"
   ]
  },
  {
   "cell_type": "code",
   "execution_count": 1,
   "id": "4127e90b-ba9c-40d8-abb1-b2349906aa0d",
   "metadata": {
    "tags": []
   },
   "outputs": [
    {
     "name": "stdout",
     "output_type": "stream",
     "text": [
      "Enter full path and filename for analysis file\n",
      "dict_specSheetName\n",
      "dict_specTableName\n",
      "dict_specHeader\n",
      "dict_specInfoTable\n",
      "dict_excelResultSheets\n",
      "dict_excelResultTables\n",
      "dict_excelResultFunctions\n",
      "dict_userPaths\n",
      "dict_specDataFormats\n",
      "dict_panelMapWidgetTypes\n",
      "dict_panelMainMenu\n",
      "dict_panelMainMenuActions\n",
      "dict_panelWidgets\n",
      "dict_panelWidgetGroups\n",
      "dict_panelWidgetGroupsTiming\n",
      "dict_panelWidgetGroupMembers\n",
      "dict_panelWidgetSpecs\n",
      "dict_panelTabs\n",
      "dict_panelDataforms\n",
      "dict_panelDataformCards\n",
      "dict_panelCustomDataform\n",
      "dict_panelDataTypes\n",
      "dict_complement\n"
     ]
    }
   ],
   "source": [
    "# Purpose: Create config file based on current version of Excel spec format\n",
    "import os\n",
    "import pandas as pd\n",
    "import polars as pl\n",
    "import xlwings as xw\n",
    "import configparser\n",
    "\n",
    "config = configparser.ConfigParser()     \n",
    "\n",
    "def load_spec_table_to_df(xl_sht, table_name):\n",
    "    return  (book.sheets[xl_sht]\n",
    "            .range(table_name + \"[[#All]]\")\n",
    "            .options(pd.DataFrame, index=False,header=True)\n",
    "            .value.astype(str))\n",
    "\n",
    "def getColList(colstring):\n",
    "    if \",\" in colstring:\n",
    "        return [x.strip() for x in colstring.split(\",\")]        \n",
    "    else:\n",
    "        return [colstring.strip()]\n",
    "    \n",
    "def getKeys(collist,x):\n",
    "    # print(collist)\n",
    "    # print(x)\n",
    "    if len(collist)>1:\n",
    "        return '|'.join(x[collist].values.tolist())\n",
    "    else:\n",
    "        return x[collist[0]]\n",
    "\n",
    "def getVals(collist,x):\n",
    "    if len(collist)>1:\n",
    "        result=x[collist].values.tolist()\n",
    "        result=tuple(result)\n",
    "    else:\n",
    "        result=x[collist[0]]\n",
    "    return result\n",
    "    \n",
    "if __name__ == \"__main__\":\n",
    "    print('Enter full path and filename for analysis file')\n",
    "    x=input()\n",
    "    x=x.replace(os.sep,\"/\")\n",
    "    xw.Book(x).set_mock_caller()\n",
    "    \n",
    "    book = xw.Book.caller()\n",
    "    filepath=book.fullname[:len(book.fullname)-len(book.name)].replace(os.sep,\"/\")  \n",
    "    \n",
    "    #Import table of dictionaries that contains all specs\n",
    "    tblDictSpecs=load_spec_table_to_df(\"Python Dictionaries and dtypes\",\"Tbl_dictSpecs\")\n",
    "\n",
    "    for row1 in tblDictSpecs.iterrows():\n",
    "        print(row1[1]['Dictionary Variable'])\n",
    "        tempSourceTbl=load_spec_table_to_df(\"Python Dictionaries and dtypes\",row1[1]['Dictionary Source Table'])\n",
    "        tempListKeyCols=getColList(row1[1]['Key Column (s)'])\n",
    "        tempListValCols=getColList(row1[1]['Value Column (s)'])\n",
    "        tempSourceTbl['keys']=tempSourceTbl.apply(lambda x: getKeys(tempListKeyCols,x),axis=1)\n",
    "        tempSourceTbl['vals']=tempSourceTbl.apply(lambda x: getVals(tempListValCols,x),axis=1)     \n",
    "        config[row1[1]['Dictionary Variable']]=dict(zip(tempSourceTbl[\"keys\"],tempSourceTbl[\"vals\"]))\n",
    "        config[row1[1]['Dictionary Variable']+'_keys']=dict(zip(tempSourceTbl[\"keys\"],tempSourceTbl[\"keys\"]))\n",
    "        tempAddToPreppedSpecs=\"True\" if row1[1]['Add to Prepped Specs']==\"True\" else \"False\"\n",
    "        config[row1[1]['Dictionary Variable']]['addtospecs']=tempAddToPreppedSpecs\n",
    "\n",
    "    config['dict_keyCols']=dict(zip(tblDictSpecs['Dictionary Variable'],tblDictSpecs['Key Column (s)']))\n",
    "    config['dict_keyCols_keys']=dict(zip(tblDictSpecs['Dictionary Variable'],tblDictSpecs['Dictionary Variable']))\n",
    "    config['dict_valCols']=dict(zip(tblDictSpecs['Dictionary Variable'],tblDictSpecs['Value Column (s)']))\n",
    "    config['dict_valCols_keys']=dict(zip(tblDictSpecs['Dictionary Variable'],tblDictSpecs['Dictionary Variable']))\n",
    "\n",
    "    with open(filepath+'config.ini', 'w') as configfile:\n",
    "        config.write(configfile)"
   ]
  },
  {
   "cell_type": "code",
   "execution_count": 6,
   "id": "abd84a0f",
   "metadata": {},
   "outputs": [
    {
     "name": "stdout",
     "output_type": "stream",
     "text": [
      "Collecting xlwings\n",
      "  Downloading xlwings-0.31.5-cp39-cp39-win_amd64.whl (1.7 MB)\n",
      "     ---------------------------------------- 1.7/1.7 MB 13.2 MB/s eta 0:00:00\n",
      "Requirement already satisfied: pywin32>=224 in c:\\users\\cw3\\appdata\\local\\packages\\pythonsoftwarefoundation.python.3.9_qbz5n2kfra8p0\\localcache\\local-packages\\python39\\site-packages (from xlwings) (306)\n",
      "Installing collected packages: xlwings\n",
      "Successfully installed xlwings-0.31.5\n",
      "Note: you may need to restart the kernel to use updated packages.\n"
     ]
    },
    {
     "name": "stderr",
     "output_type": "stream",
     "text": [
      "WARNING: You are using pip version 22.0.4; however, version 24.1 is available.\n",
      "You should consider upgrading via the 'C:\\Users\\CW3\\AppData\\Local\\Microsoft\\WindowsApps\\PythonSoftwareFoundation.Python.3.9_qbz5n2kfra8p0\\python.exe -m pip install --upgrade pip' command.\n"
     ]
    }
   ],
   "source": [
    "pip install xlwings\n"
   ]
  },
  {
   "cell_type": "code",
   "execution_count": 3,
   "id": "66f105b9",
   "metadata": {},
   "outputs": [
    {
     "name": "stdout",
     "output_type": "stream",
     "text": [
      "<configparser.ConfigParser object at 0x0000026046C3BFD0>\n"
     ]
    }
   ],
   "source": [
    "#THIS IS CODE TO IMPORT CONFIG INTO DICTIONARY IN PROJECT\n",
    "\n",
    "import configparser\n",
    "config = configparser.ConfigParser()\n",
    "config.read(\"C:/Users/CW3/BMS Group/BMS Re - Documents/Actuarial/Models/New Model Development/Reinsurance Strategy Analysis/Config.ini\")\n",
    "print(config)\n",
    "dict_dataTypes={}\n",
    "\n",
    "def configparser_to_dict(config: configparser.ConfigParser) -> dict:\n",
    "    config_dict = {}\n",
    "    for section in config.sections():\n",
    "        config_dict[section] = {}\n",
    "        if section!='dict_dataTypes':\n",
    "            for key, value in config.items(section):\n",
    "            # Now try to convert back to original types if possible\n",
    "                for boolean in ['True', 'False', 'None']:\n",
    "                    if value == boolean:\n",
    "                        value = bool(boolean)\n",
    "\n",
    "                # Try to convert to float or int\n",
    "                try:\n",
    "                    if isinstance(value, str):\n",
    "                        if '.' in value:\n",
    "                            value = float(value)\n",
    "                        else:\n",
    "                            value = int(value)\n",
    "                except ValueError:\n",
    "                    pass\n",
    "\n",
    "                config_dict[section][key] = value\n",
    "        else:\n",
    "            config_dict[section]=dict(config.items(section))\n",
    "\n",
    "    # Now drop root section if present\n",
    "    config_dict.pop('root', None)\n",
    "    return config_dict\n",
    "\n",
    "# config_dict=configparser_to_dict(config)\n",
    "# for key in config_dict.keys():\n",
    "#     exec(key+\"=config_dict[key]\")\n"
   ]
  },
  {
   "cell_type": "code",
   "execution_count": 5,
   "id": "5d97ec02",
   "metadata": {},
   "outputs": [
    {
     "data": {
      "text/plain": [
       "{'cw3': 'C:\\\\Users\\\\CW3\\\\BMS Group\\\\BMS Re - Documents\\\\Actuarial\\\\Models\\\\New Model Development\\\\Reinsurance Strategy Analysis\\\\Reinsurance Strategy Analyses',\n",
       " 'm8c': 'C:\\\\Users\\\\M8C\\\\OneDrive - BMS Group\\\\Documents\\\\VsCode\\\\Reinsurance Strategy Analyses'}"
      ]
     },
     "execution_count": 5,
     "metadata": {},
     "output_type": "execute_result"
    }
   ],
   "source": [
    "dict_userpaths"
   ]
  }
 ],
 "metadata": {
  "kernelspec": {
   "display_name": ".venv",
   "language": "python",
   "name": "python3"
  },
  "language_info": {
   "codemirror_mode": {
    "name": "ipython",
    "version": 3
   },
   "file_extension": ".py",
   "mimetype": "text/x-python",
   "name": "python",
   "nbconvert_exporter": "python",
   "pygments_lexer": "ipython3",
   "version": "3.9.13"
  },
  "toc-showcode": false,
  "toc-showmarkdowntxt": true,
  "toc-showtags": false
 },
 "nbformat": 4,
 "nbformat_minor": 5
}
